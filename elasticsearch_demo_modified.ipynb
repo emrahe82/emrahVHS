{
  "nbformat": 4,
  "nbformat_minor": 0,
  "metadata": {
    "colab": {
      "provenance": [],
      "include_colab_link": true
    },
    "kernelspec": {
      "name": "python3",
      "display_name": "Python 3"
    },
    "language_info": {
      "name": "python"
    }
  },
  "cells": [
    {
      "cell_type": "markdown",
      "metadata": {
        "id": "view-in-github",
        "colab_type": "text"
      },
      "source": [
        "<a href=\"https://colab.research.google.com/github/emrahe82/emrahVHS/blob/main/elasticsearch_demo_modified.ipynb\" target=\"_parent\"><img src=\"https://colab.research.google.com/assets/colab-badge.svg\" alt=\"Open In Colab\"/></a>"
      ]
    },
    {
      "cell_type": "markdown",
      "source": [
        "### Installation"
      ],
      "metadata": {
        "id": "oIyoc87X7tr5"
      }
    },
    {
      "cell_type": "code",
      "source": [
        "! pip install elasticsearch==7\n",
        "! pip install gcsfs\n",
        "! pip install json5"
      ],
      "metadata": {
        "colab": {
          "base_uri": "https://localhost:8080/"
        },
        "id": "sO4PBNiG8AFl",
        "outputId": "a4c1e49b-c70b-43e0-de71-622b4871c2e3"
      },
      "execution_count": 1,
      "outputs": [
        {
          "output_type": "stream",
          "name": "stdout",
          "text": [
            "Looking in indexes: https://pypi.org/simple, https://us-python.pkg.dev/colab-wheels/public/simple/\n",
            "Collecting elasticsearch==7\n",
            "  Downloading elasticsearch-7.0.0-py2.py3-none-any.whl (80 kB)\n",
            "\u001b[2K     \u001b[90m━━━━━━━━━━━━━━━━━━━━━━━━━━━━━━━━━━━━━━━━\u001b[0m \u001b[32m80.5/80.5 kB\u001b[0m \u001b[31m8.0 MB/s\u001b[0m eta \u001b[36m0:00:00\u001b[0m\n",
            "\u001b[?25hRequirement already satisfied: urllib3>=1.21.1 in /usr/local/lib/python3.10/dist-packages (from elasticsearch==7) (1.26.16)\n",
            "Installing collected packages: elasticsearch\n",
            "Successfully installed elasticsearch-7.0.0\n",
            "Looking in indexes: https://pypi.org/simple, https://us-python.pkg.dev/colab-wheels/public/simple/\n",
            "Collecting gcsfs\n",
            "  Downloading gcsfs-2023.6.0-py2.py3-none-any.whl (26 kB)\n",
            "Collecting aiohttp!=4.0.0a0,!=4.0.0a1 (from gcsfs)\n",
            "  Downloading aiohttp-3.8.4-cp310-cp310-manylinux_2_17_x86_64.manylinux2014_x86_64.whl (1.0 MB)\n",
            "\u001b[2K     \u001b[90m━━━━━━━━━━━━━━━━━━━━━━━━━━━━━━━━━━━━━━━━\u001b[0m \u001b[32m1.0/1.0 MB\u001b[0m \u001b[31m34.5 MB/s\u001b[0m eta \u001b[36m0:00:00\u001b[0m\n",
            "\u001b[?25hRequirement already satisfied: decorator>4.1.2 in /usr/local/lib/python3.10/dist-packages (from gcsfs) (4.4.2)\n",
            "Requirement already satisfied: fsspec==2023.6.0 in /usr/local/lib/python3.10/dist-packages (from gcsfs) (2023.6.0)\n",
            "Requirement already satisfied: google-auth>=1.2 in /usr/local/lib/python3.10/dist-packages (from gcsfs) (2.17.3)\n",
            "Requirement already satisfied: google-auth-oauthlib in /usr/local/lib/python3.10/dist-packages (from gcsfs) (1.0.0)\n",
            "Requirement already satisfied: google-cloud-storage in /usr/local/lib/python3.10/dist-packages (from gcsfs) (2.8.0)\n",
            "Requirement already satisfied: requests in /usr/local/lib/python3.10/dist-packages (from gcsfs) (2.27.1)\n",
            "Requirement already satisfied: attrs>=17.3.0 in /usr/local/lib/python3.10/dist-packages (from aiohttp!=4.0.0a0,!=4.0.0a1->gcsfs) (23.1.0)\n",
            "Requirement already satisfied: charset-normalizer<4.0,>=2.0 in /usr/local/lib/python3.10/dist-packages (from aiohttp!=4.0.0a0,!=4.0.0a1->gcsfs) (2.0.12)\n",
            "Collecting multidict<7.0,>=4.5 (from aiohttp!=4.0.0a0,!=4.0.0a1->gcsfs)\n",
            "  Downloading multidict-6.0.4-cp310-cp310-manylinux_2_17_x86_64.manylinux2014_x86_64.whl (114 kB)\n",
            "\u001b[2K     \u001b[90m━━━━━━━━━━━━━━━━━━━━━━━━━━━━━━━━━━━━━━━\u001b[0m \u001b[32m114.5/114.5 kB\u001b[0m \u001b[31m7.6 MB/s\u001b[0m eta \u001b[36m0:00:00\u001b[0m\n",
            "\u001b[?25hCollecting async-timeout<5.0,>=4.0.0a3 (from aiohttp!=4.0.0a0,!=4.0.0a1->gcsfs)\n",
            "  Downloading async_timeout-4.0.2-py3-none-any.whl (5.8 kB)\n",
            "Collecting yarl<2.0,>=1.0 (from aiohttp!=4.0.0a0,!=4.0.0a1->gcsfs)\n",
            "  Downloading yarl-1.9.2-cp310-cp310-manylinux_2_17_x86_64.manylinux2014_x86_64.whl (268 kB)\n",
            "\u001b[2K     \u001b[90m━━━━━━━━━━━━━━━━━━━━━━━━━━━━━━━━━━━━━━\u001b[0m \u001b[32m268.8/268.8 kB\u001b[0m \u001b[31m19.3 MB/s\u001b[0m eta \u001b[36m0:00:00\u001b[0m\n",
            "\u001b[?25hCollecting frozenlist>=1.1.1 (from aiohttp!=4.0.0a0,!=4.0.0a1->gcsfs)\n",
            "  Downloading frozenlist-1.3.3-cp310-cp310-manylinux_2_5_x86_64.manylinux1_x86_64.manylinux_2_17_x86_64.manylinux2014_x86_64.whl (149 kB)\n",
            "\u001b[2K     \u001b[90m━━━━━━━━━━━━━━━━━━━━━━━━━━━━━━━━━━━━━━\u001b[0m \u001b[32m149.6/149.6 kB\u001b[0m \u001b[31m14.5 MB/s\u001b[0m eta \u001b[36m0:00:00\u001b[0m\n",
            "\u001b[?25hCollecting aiosignal>=1.1.2 (from aiohttp!=4.0.0a0,!=4.0.0a1->gcsfs)\n",
            "  Downloading aiosignal-1.3.1-py3-none-any.whl (7.6 kB)\n",
            "Requirement already satisfied: cachetools<6.0,>=2.0.0 in /usr/local/lib/python3.10/dist-packages (from google-auth>=1.2->gcsfs) (5.3.1)\n",
            "Requirement already satisfied: pyasn1-modules>=0.2.1 in /usr/local/lib/python3.10/dist-packages (from google-auth>=1.2->gcsfs) (0.3.0)\n",
            "Requirement already satisfied: six>=1.9.0 in /usr/local/lib/python3.10/dist-packages (from google-auth>=1.2->gcsfs) (1.16.0)\n",
            "Requirement already satisfied: rsa<5,>=3.1.4 in /usr/local/lib/python3.10/dist-packages (from google-auth>=1.2->gcsfs) (4.9)\n",
            "Requirement already satisfied: requests-oauthlib>=0.7.0 in /usr/local/lib/python3.10/dist-packages (from google-auth-oauthlib->gcsfs) (1.3.1)\n",
            "Requirement already satisfied: google-api-core!=2.0.*,!=2.1.*,!=2.2.*,!=2.3.0,<3.0.0dev,>=1.31.5 in /usr/local/lib/python3.10/dist-packages (from google-cloud-storage->gcsfs) (2.11.1)\n",
            "Requirement already satisfied: google-cloud-core<3.0dev,>=2.3.0 in /usr/local/lib/python3.10/dist-packages (from google-cloud-storage->gcsfs) (2.3.2)\n",
            "Requirement already satisfied: google-resumable-media>=2.3.2 in /usr/local/lib/python3.10/dist-packages (from google-cloud-storage->gcsfs) (2.5.0)\n",
            "Requirement already satisfied: urllib3<1.27,>=1.21.1 in /usr/local/lib/python3.10/dist-packages (from requests->gcsfs) (1.26.16)\n",
            "Requirement already satisfied: certifi>=2017.4.17 in /usr/local/lib/python3.10/dist-packages (from requests->gcsfs) (2023.5.7)\n",
            "Requirement already satisfied: idna<4,>=2.5 in /usr/local/lib/python3.10/dist-packages (from requests->gcsfs) (3.4)\n",
            "Requirement already satisfied: googleapis-common-protos<2.0.dev0,>=1.56.2 in /usr/local/lib/python3.10/dist-packages (from google-api-core!=2.0.*,!=2.1.*,!=2.2.*,!=2.3.0,<3.0.0dev,>=1.31.5->google-cloud-storage->gcsfs) (1.59.1)\n",
            "Requirement already satisfied: protobuf!=3.20.0,!=3.20.1,!=4.21.0,!=4.21.1,!=4.21.2,!=4.21.3,!=4.21.4,!=4.21.5,<5.0.0.dev0,>=3.19.5 in /usr/local/lib/python3.10/dist-packages (from google-api-core!=2.0.*,!=2.1.*,!=2.2.*,!=2.3.0,<3.0.0dev,>=1.31.5->google-cloud-storage->gcsfs) (3.20.3)\n",
            "Requirement already satisfied: google-crc32c<2.0dev,>=1.0 in /usr/local/lib/python3.10/dist-packages (from google-resumable-media>=2.3.2->google-cloud-storage->gcsfs) (1.5.0)\n",
            "Requirement already satisfied: pyasn1<0.6.0,>=0.4.6 in /usr/local/lib/python3.10/dist-packages (from pyasn1-modules>=0.2.1->google-auth>=1.2->gcsfs) (0.5.0)\n",
            "Requirement already satisfied: oauthlib>=3.0.0 in /usr/local/lib/python3.10/dist-packages (from requests-oauthlib>=0.7.0->google-auth-oauthlib->gcsfs) (3.2.2)\n",
            "Installing collected packages: multidict, frozenlist, async-timeout, yarl, aiosignal, aiohttp, gcsfs\n",
            "Successfully installed aiohttp-3.8.4 aiosignal-1.3.1 async-timeout-4.0.2 frozenlist-1.3.3 gcsfs-2023.6.0 multidict-6.0.4 yarl-1.9.2\n",
            "Looking in indexes: https://pypi.org/simple, https://us-python.pkg.dev/colab-wheels/public/simple/\n",
            "Collecting json5\n",
            "  Downloading json5-0.9.14-py2.py3-none-any.whl (19 kB)\n",
            "Installing collected packages: json5\n",
            "Successfully installed json5-0.9.14\n"
          ]
        }
      ]
    },
    {
      "cell_type": "markdown",
      "source": [
        "### Import Libraries"
      ],
      "metadata": {
        "id": "JNN6uH5u8BU6"
      }
    },
    {
      "cell_type": "code",
      "execution_count": 2,
      "metadata": {
        "id": "xXFP6tBQwlGp"
      },
      "outputs": [],
      "source": [
        "from datetime import datetime\n",
        "from elasticsearch import Elasticsearch"
      ]
    },
    {
      "cell_type": "markdown",
      "source": [
        "### ElasticSearch credentials"
      ],
      "metadata": {
        "id": "b9lXdN988ES9"
      }
    },
    {
      "cell_type": "code",
      "source": [
        "ES_URL = \"https://my-deployment-460646.es.us-central1.gcp.cloud.es.io:9243\" # \"https://aaa-a725c6.es.us-central1.gcp.cloud.es.io:9243\"\n",
        "ES_USER = 'elastic'\n",
        "ES_PASSWORD = \"Y7y8I8UQp26EIIMmXawqB3zC\"\n",
        "PROD_ES_URL = \"https://my-deployment-460646.es.us-central1.gcp.cloud.es.io:9243\"\n",
        "PROD_DEVELOPERS_INDEX_NAME = \"search-emrah-text-search\""
      ],
      "metadata": {
        "id": "vDTKUTs47GXr"
      },
      "execution_count": 3,
      "outputs": []
    },
    {
      "cell_type": "markdown",
      "source": [
        "### Configure the ES Client"
      ],
      "metadata": {
        "id": "GBN6fQNI8KDe"
      }
    },
    {
      "cell_type": "code",
      "source": [
        "from elasticsearch import Elasticsearch, helpers\n",
        "\n",
        "es = Elasticsearch(hosts = [ES_URL], http_auth=(ES_USER, ES_PASSWORD), timeout = 60)\n",
        "print(es)"
      ],
      "metadata": {
        "colab": {
          "base_uri": "https://localhost:8080/"
        },
        "id": "31gQ0baA74oq",
        "outputId": "ef55afff-4298-4a85-9db8-a16d09713bd4"
      },
      "execution_count": 4,
      "outputs": [
        {
          "output_type": "stream",
          "name": "stdout",
          "text": [
            "<Elasticsearch([{'host': 'my-deployment-460646.es.us-central1.gcp.cloud.es.io', 'port': 9243, 'use_ssl': True}])>\n"
          ]
        }
      ]
    },
    {
      "cell_type": "code",
      "source": [
        "from elasticsearch import Elasticsearch\n",
        "\n",
        "es = Elasticsearch(hosts = [ES_URL], http_auth=(ES_USER, ES_PASSWORD), timeout = 60)\n",
        "\n",
        "# Ping the Elasticsearch server\n",
        "if es.ping():\n",
        "    print(\"Connected to the Elasticsearch server\")\n",
        "else:\n",
        "    print(\"Could not connect to the Elasticsearch server\")\n"
      ],
      "metadata": {
        "id": "jDbia9-yGvg4",
        "outputId": "569afd0f-6a74-473c-a821-971fdd648f46",
        "colab": {
          "base_uri": "https://localhost:8080/"
        }
      },
      "execution_count": 7,
      "outputs": [
        {
          "output_type": "stream",
          "name": "stdout",
          "text": [
            "Connected to the Elasticsearch server\n"
          ]
        }
      ]
    },
    {
      "cell_type": "code",
      "source": [],
      "metadata": {
        "id": "Ji5lsAyZLvBR"
      },
      "execution_count": null,
      "outputs": []
    },
    {
      "cell_type": "code",
      "source": [
        "es.indices.create"
      ],
      "metadata": {
        "id": "wYa8dEsULvEL"
      },
      "execution_count": null,
      "outputs": []
    },
    {
      "cell_type": "code",
      "source": [],
      "metadata": {
        "id": "Nfi8OUHrLvHT"
      },
      "execution_count": null,
      "outputs": []
    },
    {
      "cell_type": "code",
      "source": [],
      "metadata": {
        "id": "2xeX3c97LvJy"
      },
      "execution_count": null,
      "outputs": []
    },
    {
      "cell_type": "code",
      "source": [],
      "metadata": {
        "id": "GK0flNPsLvLs"
      },
      "execution_count": null,
      "outputs": []
    },
    {
      "cell_type": "code",
      "source": [],
      "metadata": {
        "id": "6muTPF2ZLvQ8"
      },
      "execution_count": null,
      "outputs": []
    },
    {
      "cell_type": "markdown",
      "source": [
        "### Trial Codebase"
      ],
      "metadata": {
        "id": "zHQE9y-u8O9Q"
      }
    },
    {
      "cell_type": "code",
      "source": [
        "request_body = {\n",
        "\t    \"settings\" : {\n",
        "\t        \"number_of_shards\": 5,\n",
        "\t        \"number_of_replicas\": 1\n",
        "\t    },\n",
        "\"mappings\" : {\n",
        "        \"properties\": {\n",
        "            \"title\": {\"type\": \"text\", \"analyzer\": \"english\"},\n",
        "            \"ethnicity\": {\"type\": \"text\", \"analyzer\": \"standard\"},\n",
        "            \"director\": {\"type\": \"text\", \"analyzer\": \"standard\"},\n",
        "            \"cast\": {\"type\": \"text\", \"analyzer\": \"standard\"},\n",
        "            \"genre\": {\"type\": \"text\", \"analyzer\": \"standard\"},\n",
        "            \"plot\": {\"type\": \"text\", \"analyzer\": \"english\"},\n",
        "            \"year\": {\"type\": \"integer\"},\n",
        "            \"wiki_page\": {\"type\": \"keyword\"}\n",
        "    }\n",
        "}\n",
        "  }\n",
        "if not es.indices.exists(index=\"vhs_tapes\"):\n",
        "  es.indices.create(index=\"vhs_tapes\", body = request_body)"
      ],
      "metadata": {
        "id": "qn06h-7wufoT"
      },
      "execution_count": 8,
      "outputs": []
    },
    {
      "cell_type": "code",
      "source": [
        "import pandas as pd"
      ],
      "metadata": {
        "id": "dCjtDIl1vzEB"
      },
      "execution_count": 9,
      "outputs": []
    },
    {
      "cell_type": "code",
      "source": [
        "df = pd.DataFrame({\n",
        "    \"title\": [\"a test\", \"man made\", \"cyclone\", \"cyclone war\"],\n",
        "    \"ethnicity\": [\"same\"] * 4,\n",
        "    \"director\": [\"test\", \"fahad\", \"emrah\", \"nabil\"],\n",
        "    \"cast\": [\"test\", \"fahad\", \"emrah\", \"nabil\"],\n",
        "    \"genre\": [\"test\", \"fahad\", \"emrah\", \"nabil\"],\n",
        "    \"plot\": [\"test\", \"fahad\", \"emrah\", \"nabil\"],\n",
        "    \"year\": [1998, 2002, 2005, 2020],\n",
        "    \"wiki_page\": [\"test\", \"fahad\", \"emrah\", \"nabil\"],\n",
        "\n",
        "})"
      ],
      "metadata": {
        "id": "GFZHuSOrwK5A"
      },
      "execution_count": 10,
      "outputs": []
    },
    {
      "cell_type": "code",
      "source": [
        "df.head()"
      ],
      "metadata": {
        "colab": {
          "base_uri": "https://localhost:8080/",
          "height": 175
        },
        "id": "XINbVlZaw1YA",
        "outputId": "476d1611-6962-4afa-a3b7-3a7e9948ba28"
      },
      "execution_count": 11,
      "outputs": [
        {
          "output_type": "execute_result",
          "data": {
            "text/plain": [
              "         title ethnicity director   cast  genre   plot  year wiki_page\n",
              "0       a test      same     test   test   test   test  1998      test\n",
              "1     man made      same    fahad  fahad  fahad  fahad  2002     fahad\n",
              "2      cyclone      same    emrah  emrah  emrah  emrah  2005     emrah\n",
              "3  cyclone war      same    nabil  nabil  nabil  nabil  2020     nabil"
            ],
            "text/html": [
              "\n",
              "  <div id=\"df-314c315a-dfc9-4789-82ea-337cdd1206e7\">\n",
              "    <div class=\"colab-df-container\">\n",
              "      <div>\n",
              "<style scoped>\n",
              "    .dataframe tbody tr th:only-of-type {\n",
              "        vertical-align: middle;\n",
              "    }\n",
              "\n",
              "    .dataframe tbody tr th {\n",
              "        vertical-align: top;\n",
              "    }\n",
              "\n",
              "    .dataframe thead th {\n",
              "        text-align: right;\n",
              "    }\n",
              "</style>\n",
              "<table border=\"1\" class=\"dataframe\">\n",
              "  <thead>\n",
              "    <tr style=\"text-align: right;\">\n",
              "      <th></th>\n",
              "      <th>title</th>\n",
              "      <th>ethnicity</th>\n",
              "      <th>director</th>\n",
              "      <th>cast</th>\n",
              "      <th>genre</th>\n",
              "      <th>plot</th>\n",
              "      <th>year</th>\n",
              "      <th>wiki_page</th>\n",
              "    </tr>\n",
              "  </thead>\n",
              "  <tbody>\n",
              "    <tr>\n",
              "      <th>0</th>\n",
              "      <td>a test</td>\n",
              "      <td>same</td>\n",
              "      <td>test</td>\n",
              "      <td>test</td>\n",
              "      <td>test</td>\n",
              "      <td>test</td>\n",
              "      <td>1998</td>\n",
              "      <td>test</td>\n",
              "    </tr>\n",
              "    <tr>\n",
              "      <th>1</th>\n",
              "      <td>man made</td>\n",
              "      <td>same</td>\n",
              "      <td>fahad</td>\n",
              "      <td>fahad</td>\n",
              "      <td>fahad</td>\n",
              "      <td>fahad</td>\n",
              "      <td>2002</td>\n",
              "      <td>fahad</td>\n",
              "    </tr>\n",
              "    <tr>\n",
              "      <th>2</th>\n",
              "      <td>cyclone</td>\n",
              "      <td>same</td>\n",
              "      <td>emrah</td>\n",
              "      <td>emrah</td>\n",
              "      <td>emrah</td>\n",
              "      <td>emrah</td>\n",
              "      <td>2005</td>\n",
              "      <td>emrah</td>\n",
              "    </tr>\n",
              "    <tr>\n",
              "      <th>3</th>\n",
              "      <td>cyclone war</td>\n",
              "      <td>same</td>\n",
              "      <td>nabil</td>\n",
              "      <td>nabil</td>\n",
              "      <td>nabil</td>\n",
              "      <td>nabil</td>\n",
              "      <td>2020</td>\n",
              "      <td>nabil</td>\n",
              "    </tr>\n",
              "  </tbody>\n",
              "</table>\n",
              "</div>\n",
              "      <button class=\"colab-df-convert\" onclick=\"convertToInteractive('df-314c315a-dfc9-4789-82ea-337cdd1206e7')\"\n",
              "              title=\"Convert this dataframe to an interactive table.\"\n",
              "              style=\"display:none;\">\n",
              "        \n",
              "  <svg xmlns=\"http://www.w3.org/2000/svg\" height=\"24px\"viewBox=\"0 0 24 24\"\n",
              "       width=\"24px\">\n",
              "    <path d=\"M0 0h24v24H0V0z\" fill=\"none\"/>\n",
              "    <path d=\"M18.56 5.44l.94 2.06.94-2.06 2.06-.94-2.06-.94-.94-2.06-.94 2.06-2.06.94zm-11 1L8.5 8.5l.94-2.06 2.06-.94-2.06-.94L8.5 2.5l-.94 2.06-2.06.94zm10 10l.94 2.06.94-2.06 2.06-.94-2.06-.94-.94-2.06-.94 2.06-2.06.94z\"/><path d=\"M17.41 7.96l-1.37-1.37c-.4-.4-.92-.59-1.43-.59-.52 0-1.04.2-1.43.59L10.3 9.45l-7.72 7.72c-.78.78-.78 2.05 0 2.83L4 21.41c.39.39.9.59 1.41.59.51 0 1.02-.2 1.41-.59l7.78-7.78 2.81-2.81c.8-.78.8-2.07 0-2.86zM5.41 20L4 18.59l7.72-7.72 1.47 1.35L5.41 20z\"/>\n",
              "  </svg>\n",
              "      </button>\n",
              "      \n",
              "  <style>\n",
              "    .colab-df-container {\n",
              "      display:flex;\n",
              "      flex-wrap:wrap;\n",
              "      gap: 12px;\n",
              "    }\n",
              "\n",
              "    .colab-df-convert {\n",
              "      background-color: #E8F0FE;\n",
              "      border: none;\n",
              "      border-radius: 50%;\n",
              "      cursor: pointer;\n",
              "      display: none;\n",
              "      fill: #1967D2;\n",
              "      height: 32px;\n",
              "      padding: 0 0 0 0;\n",
              "      width: 32px;\n",
              "    }\n",
              "\n",
              "    .colab-df-convert:hover {\n",
              "      background-color: #E2EBFA;\n",
              "      box-shadow: 0px 1px 2px rgba(60, 64, 67, 0.3), 0px 1px 3px 1px rgba(60, 64, 67, 0.15);\n",
              "      fill: #174EA6;\n",
              "    }\n",
              "\n",
              "    [theme=dark] .colab-df-convert {\n",
              "      background-color: #3B4455;\n",
              "      fill: #D2E3FC;\n",
              "    }\n",
              "\n",
              "    [theme=dark] .colab-df-convert:hover {\n",
              "      background-color: #434B5C;\n",
              "      box-shadow: 0px 1px 3px 1px rgba(0, 0, 0, 0.15);\n",
              "      filter: drop-shadow(0px 1px 2px rgba(0, 0, 0, 0.3));\n",
              "      fill: #FFFFFF;\n",
              "    }\n",
              "  </style>\n",
              "\n",
              "      <script>\n",
              "        const buttonEl =\n",
              "          document.querySelector('#df-314c315a-dfc9-4789-82ea-337cdd1206e7 button.colab-df-convert');\n",
              "        buttonEl.style.display =\n",
              "          google.colab.kernel.accessAllowed ? 'block' : 'none';\n",
              "\n",
              "        async function convertToInteractive(key) {\n",
              "          const element = document.querySelector('#df-314c315a-dfc9-4789-82ea-337cdd1206e7');\n",
              "          const dataTable =\n",
              "            await google.colab.kernel.invokeFunction('convertToInteractive',\n",
              "                                                     [key], {});\n",
              "          if (!dataTable) return;\n",
              "\n",
              "          const docLinkHtml = 'Like what you see? Visit the ' +\n",
              "            '<a target=\"_blank\" href=https://colab.research.google.com/notebooks/data_table.ipynb>data table notebook</a>'\n",
              "            + ' to learn more about interactive tables.';\n",
              "          element.innerHTML = '';\n",
              "          dataTable['output_type'] = 'display_data';\n",
              "          await google.colab.output.renderOutput(dataTable, element);\n",
              "          const docLink = document.createElement('div');\n",
              "          docLink.innerHTML = docLinkHtml;\n",
              "          element.appendChild(docLink);\n",
              "        }\n",
              "      </script>\n",
              "    </div>\n",
              "  </div>\n",
              "  "
            ]
          },
          "metadata": {},
          "execution_count": 11
        }
      ]
    },
    {
      "cell_type": "code",
      "source": [
        "for i, row in df.iterrows():\n",
        "    doc = {\n",
        "        \"title\": row[\"title\"],\n",
        "        \"ethnicity\": row[\"ethnicity\"],\n",
        "        \"director\": row[\"director\"],\n",
        "        \"cast\": row[\"cast\"],\n",
        "        \"genre\": row[\"genre\"],\n",
        "        \"plot\": row[\"plot\"],\n",
        "        \"year\": row[\"year\"],\n",
        "        \"wiki_page\": row[\"wiki_page\"]\n",
        "    }\n",
        "\n",
        "    es.index(index=\"vhs_tapes\", id=i, body=doc)"
      ],
      "metadata": {
        "id": "J5tJenTnvmr6"
      },
      "execution_count": 12,
      "outputs": []
    },
    {
      "cell_type": "markdown",
      "source": [
        "### Final CodeBase"
      ],
      "metadata": {
        "id": "MVIiTTT68SdU"
      }
    },
    {
      "cell_type": "code",
      "source": [
        "def create_index(index_name):\n",
        "    # Create an index in Elasticsearch with a custom analyzer\n",
        "    analyzer = {\n",
        "        'analyzer': {\n",
        "            'my_analyzer': {\n",
        "                'tokenizer': 'standard',\n",
        "                'filter': ['lowercase']\n",
        "            }\n",
        "        }\n",
        "    }\n",
        "    es.indices.create(index=index_name, ignore=400, body=analyzer)\n",
        "\n",
        "def index_document(index_name, document_id, text):\n",
        "    # Index a document in Elasticsearch\n",
        "    body = {\n",
        "        'text': text\n",
        "    }\n",
        "    es.index(index=index_name, id=document_id, body=body)\n",
        "\n",
        "def search_documents(index_name, query):\n",
        "    # Search for documents in Elasticsearch\n",
        "    body = {\n",
        "        'query': {\n",
        "            'match': {\n",
        "                'text': {\n",
        "                    'query': query,\n",
        "                    'analyzer': 'standard'\n",
        "                }\n",
        "            }\n",
        "        }\n",
        "    }\n",
        "    response = es.search(index=index_name, body=body)\n",
        "\n",
        "    # Extract relevant information from the response\n",
        "    hits = response['hits']['hits']\n",
        "    search_results = []\n",
        "    for hit in hits:\n",
        "        document_id = hit['_id']\n",
        "        score = hit['_score']\n",
        "        search_results.append({'document_id': document_id, 'score': score})\n",
        "\n",
        "    return search_results\n",
        "\n",
        "# Example usage\n",
        "\n",
        "# Create an index\n",
        "index_name = 'my_documents'\n",
        "create_index(index_name)\n",
        "\n",
        "# Index some documents\n",
        "index_document(index_name, 1, 'The quick brown fox')\n",
        "index_document(index_name, 2, 'Jumped over the lazy dog')\n",
        "index_document(index_name, 3, 'Hello world')\n",
        "\n",
        "# Search for documents\n",
        "query = 'brown'\n",
        "results = search_documents(index_name, query)\n",
        "\n",
        "# Display search results\n",
        "print(f\"Search results for query '{query}':\")\n",
        "for result in results:\n",
        "    print(f\"Document ID: {result['document_id']}, Score: {result['score']}\")"
      ],
      "metadata": {
        "colab": {
          "base_uri": "https://localhost:8080/"
        },
        "id": "SMrKz9fR10Ci",
        "outputId": "28a680e9-7d65-48af-cdad-385f5a817b87"
      },
      "execution_count": 14,
      "outputs": [
        {
          "output_type": "stream",
          "name": "stdout",
          "text": [
            "Search results for query 'brown':\n",
            "Document ID: 1, Score: 0.94566\n"
          ]
        }
      ]
    },
    {
      "cell_type": "code",
      "source": [],
      "metadata": {
        "id": "nsKTVfd4HSX9"
      },
      "execution_count": null,
      "outputs": []
    }
  ]
}